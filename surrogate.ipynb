{
 "cells": [
  {
   "cell_type": "code",
   "execution_count": 19,
   "metadata": {},
   "outputs": [],
   "source": [
    "import pandas as pd\n",
    "import numpy as np"
   ]
  },
  {
   "cell_type": "code",
   "execution_count": 13,
   "metadata": {},
   "outputs": [],
   "source": [
    "data=pd.read_csv(\"dataproject2022.csv\", sep=';', index_col=\"ID\", decimal=\",\")\n",
    "surrogate_data= data.drop(['Default (y)', 'PD','Group'] , axis = 1)\n"
   ]
  },
  {
   "cell_type": "code",
   "execution_count": 14,
   "metadata": {},
   "outputs": [],
   "source": [
    "X = surrogate_data.drop('Pred_default (y_hat)', axis=1)\n",
    "y = surrogate_data['Pred_default (y_hat)']"
   ]
  },
  {
   "cell_type": "code",
   "execution_count": 16,
   "metadata": {},
   "outputs": [],
   "source": [
    "from sklearn.linear_model import LogisticRegression\n",
    "clf = LogisticRegression(random_state=0).fit(X, y)"
   ]
  },
  {
   "cell_type": "code",
   "execution_count": 17,
   "metadata": {},
   "outputs": [],
   "source": [
    "def logreg_to_dict(clf: LogisticRegression, feature_names: list[str]) -> dict[str, float]:\n",
    "    coefs = np.concatenate([clf.intercept_, clf.coef_.squeeze()])\n",
    "    return dict(zip([\"intercept\"] + feature_names, coefs))"
   ]
  },
  {
   "cell_type": "code",
   "execution_count": 27,
   "metadata": {},
   "outputs": [
    {
     "name": "stdout",
     "output_type": "stream",
     "text": [
      "Optimization terminated successfully.\n",
      "         Current function value: 0.242890\n",
      "         Iterations 9\n",
      "                            Logit Regression Results                            \n",
      "================================================================================\n",
      "Dep. Variable:     Pred_default (y_hat)   No. Observations:                 7440\n",
      "Model:                            Logit   Df Residuals:                     7430\n",
      "Method:                             MLE   Df Model:                            9\n",
      "Date:                  Wed, 23 Nov 2022   Pseudo R-squ.:                  0.3242\n",
      "Time:                          12:52:07   Log-Likelihood:                -1807.1\n",
      "converged:                         True   LL-Null:                       -2674.0\n",
      "Covariance Type:              nonrobust   LLR p-value:                     0.000\n",
      "===================================================================================\n",
      "                      coef    std err          z      P>|z|      [0.025      0.975]\n",
      "-----------------------------------------------------------------------------------\n",
      "Job tenure         -0.1024      0.010    -10.256      0.000      -0.122      -0.083\n",
      "Age                -0.0348      0.003    -11.153      0.000      -0.041      -0.029\n",
      "Car price          -0.0005   2.99e-05    -16.015      0.000      -0.001      -0.000\n",
      "Funding amount      0.0005   2.96e-05     17.923      0.000       0.000       0.001\n",
      "Down payment        0.2671      0.332      0.806      0.420      -0.383       0.917\n",
      "Loan duration      -0.0037      0.002     -1.811      0.070      -0.008       0.000\n",
      "Monthly payment    -0.0811      0.664     -0.122      0.903      -1.383       1.221\n",
      "Credit event        2.8786      0.218     13.192      0.000       2.451       3.306\n",
      "Married            -0.9849      0.102     -9.657      0.000      -1.185      -0.785\n",
      "Homeowner          -0.7492      0.128     -5.860      0.000      -1.000      -0.499\n",
      "===================================================================================\n"
     ]
    }
   ],
   "source": [
    "import statsmodels.api as sm\n",
    "logit_model=sm.Logit(y,X)\n",
    "result=logit_model.fit()\n",
    "print(result.summary())"
   ]
  },
  {
   "cell_type": "markdown",
   "metadata": {},
   "source": [
    " A low R2, however, will mean that the surrogate is not able to capture the behavior of the model, and drawing conclusions using the surrogate is not advisable."
   ]
  },
  {
   "cell_type": "code",
   "execution_count": null,
   "metadata": {},
   "outputs": [],
   "source": []
  }
 ],
 "metadata": {
  "kernelspec": {
   "display_name": "Python 3.9.7 ('bikes-ramp')",
   "language": "python",
   "name": "python3"
  },
  "language_info": {
   "codemirror_mode": {
    "name": "ipython",
    "version": 3
   },
   "file_extension": ".py",
   "mimetype": "text/x-python",
   "name": "python",
   "nbconvert_exporter": "python",
   "pygments_lexer": "ipython3",
   "version": "3.9.7"
  },
  "orig_nbformat": 4,
  "vscode": {
   "interpreter": {
    "hash": "f5c9a3ac0a4c055adaee5a77a8e6bb8c252999348fc50c7c351610dc25a21366"
   }
  }
 },
 "nbformat": 4,
 "nbformat_minor": 2
}
